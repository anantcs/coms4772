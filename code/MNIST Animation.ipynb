{
 "cells": [
  {
   "cell_type": "code",
   "execution_count": 2,
   "metadata": {
    "collapsed": false
   },
   "outputs": [],
   "source": [
    "# That's an impressive list of imports.\n",
    "import numpy as np\n",
    "from numpy import linalg\n",
    "from numpy.linalg import norm\n",
    "from scipy.spatial.distance import squareform, pdist\n",
    "\n",
    "# We import sklearn.\n",
    "import sklearn\n",
    "from sklearn.manifold import TSNE, LocallyLinearEmbedding\n",
    "from sklearn.datasets import load_digits\n",
    "from sklearn.preprocessing import scale\n",
    "\n",
    "# We'll hack a bit with the t-SNE code in sklearn 0.15.2.\n",
    "from sklearn.metrics.pairwise import pairwise_distances\n",
    "from sklearn.manifold.t_sne import (_joint_probabilities,\n",
    "                                    _kl_divergence)\n",
    "from sklearn.utils.extmath import _ravel\n",
    "# Random state.\n",
    "RS = 20150101\n",
    "\n",
    "# We'll use matplotlib for graphics.\n",
    "import matplotlib.pyplot as plt\n",
    "import matplotlib.patheffects as PathEffects\n",
    "import matplotlib\n",
    "%matplotlib inline\n",
    "\n",
    "# We import seaborn to make nice plots.\n",
    "import seaborn as sns\n",
    "sns.set_style('darkgrid')\n",
    "sns.set_palette('muted')\n",
    "sns.set_context(\"notebook\", font_scale=1.5,\n",
    "                rc={\"lines.linewidth\": 2.5})\n",
    "\n",
    "# We'll generate an animation with matplotlib and moviepy.\n",
    "from moviepy.video.io.bindings import mplfig_to_npimage\n",
    "import moviepy.editor as mpy"
   ]
  },
  {
   "cell_type": "code",
   "execution_count": 3,
   "metadata": {
    "collapsed": false
   },
   "outputs": [
    {
     "data": {
      "text/plain": [
       "(1797, 64)"
      ]
     },
     "execution_count": 3,
     "metadata": {},
     "output_type": "execute_result"
    }
   ],
   "source": [
    "digits = load_digits()\n",
    "digits.data.shape"
   ]
  },
  {
   "cell_type": "code",
   "execution_count": 4,
   "metadata": {
    "collapsed": false
   },
   "outputs": [
    {
     "data": {
      "image/png": "[encoded data removed]",
      "text/plain": [
       "<matplotlib.figure.Figure at 0x7f7156aeb110>"
      ]
     },
     "metadata": {},
     "output_type": "display_data"
    }
   ],
   "source": [
    "nrows, ncols = 2, 5\n",
    "plt.figure(figsize=(6,3))\n",
    "plt.gray()\n",
    "for i in range(ncols * nrows):\n",
    "    ax = plt.subplot(nrows, ncols, i + 1)\n",
    "    ax.matshow(digits.images[i,...])\n",
    "    plt.xticks([]); plt.yticks([])\n",
    "    plt.title(digits.target[i])\n",
    "plt.savefig('images/digits-generated.png', dpi=150)"
   ]
  },
  {
   "cell_type": "code",
   "execution_count": 6,
   "metadata": {
    "collapsed": false
   },
   "outputs": [],
   "source": [
    "# We first reorder the data points according to the handwritten numbers.\n",
    "X = np.vstack([digits.data[digits.target==i]\n",
    "               for i in range(10)])\n",
    "y = np.hstack([digits.target[digits.target==i]\n",
    "               for i in range(10)])\n",
    "digits_proj = TSNE(random_state=RS).fit_transform(X)"
   ]
  },
  {
   "cell_type": "code",
   "execution_count": 22,
   "metadata": {
    "collapsed": false
   },
   "outputs": [],
   "source": [
    "# This list will contain the positions of the map points at every iteration.\n",
    "positions = []\n",
    "def _gradient_descent(objective, p0, it, n_iter, objective_error=None, n_iter_without_progress=30,\n",
    "                      momentum=0.5, learning_rate=1000.0, min_gain=0.01,\n",
    "                      min_grad_norm=1e-7, min_error_diff=1e-7, verbose=0,n_iter_check=25, kwargs= None,\n",
    "                      args=[]):\n",
    "    # The documentation of this function can be found in scikit-learn's code.\n",
    "    p = p0.copy().ravel()\n",
    "    update = np.zeros_like(p)\n",
    "    gains = np.ones_like(p)\n",
    "    error = np.finfo(np.float).max\n",
    "    best_error = np.finfo(np.float).max\n",
    "    best_iter = 0\n",
    "\n",
    "    for i in range(it, n_iter):\n",
    "        # We save the current position.\n",
    "        positions.append(p.copy())\n",
    "\n",
    "        new_error, grad = objective(p, *args)\n",
    "        error_diff = np.abs(new_error - error)\n",
    "        error = new_error\n",
    "        grad_norm = linalg.norm(grad)\n",
    "\n",
    "        if error < best_error:\n",
    "            best_error = error\n",
    "            best_iter = i\n",
    "        elif i - best_iter > n_iter_without_progress:\n",
    "            break\n",
    "        if min_grad_norm >= grad_norm:\n",
    "            break\n",
    "        if min_error_diff >= error_diff:\n",
    "            break\n",
    "\n",
    "        inc = update * grad >= 0.0\n",
    "        dec = np.invert(inc)\n",
    "        gains[inc] += 0.05\n",
    "        gains[dec] *= 0.95\n",
    "        np.clip(gains, min_gain, np.inf)\n",
    "        grad *= gains\n",
    "        update = momentum * update - learning_rate * grad\n",
    "        p += update\n",
    "\n",
    "    return p, error, i\n",
    "sklearn.manifold.t_sne._gradient_descent = _gradient_descent"
   ]
  },
  {
   "cell_type": "code",
   "execution_count": 23,
   "metadata": {
    "collapsed": false
   },
   "outputs": [],
   "source": [
    "X_proj = TSNE(random_state=RS).fit_transform(X)\n",
    "X_iter = np.dstack(position.reshape(-1, 2) for position in positions)"
   ]
  },
  {
   "cell_type": "code",
   "execution_count": 25,
   "metadata": {
    "collapsed": true
   },
   "outputs": [],
   "source": [
    "def scatter(x, colors):\n",
    "    # We choose a color palette with seaborn.\n",
    "    palette = np.array(sns.color_palette(\"hls\", 10))\n",
    "\n",
    "    # We create a scatter plot.\n",
    "    f = plt.figure(figsize=(8, 8))\n",
    "    ax = plt.subplot(aspect='equal')\n",
    "    sc = ax.scatter(x[:,0], x[:,1], lw=0, s=40,\n",
    "                    c=palette[colors.astype(np.int)])\n",
    "    plt.xlim(-25, 25)\n",
    "    plt.ylim(-25, 25)\n",
    "    ax.axis('off')\n",
    "    ax.axis('tight')\n",
    "\n",
    "    # We add the labels for each digit.\n",
    "    txts = []\n",
    "    for i in range(10):\n",
    "        # Position of each label.\n",
    "        xtext, ytext = np.median(x[colors == i, :], axis=0)\n",
    "        txt = ax.text(xtext, ytext, str(i), fontsize=24)\n",
    "        txt.set_path_effects([\n",
    "            PathEffects.Stroke(linewidth=5, foreground=\"w\"),\n",
    "            PathEffects.Normal()])\n",
    "        txts.append(txt)\n",
    "\n",
    "    return f, ax, sc, txts"
   ]
  },
  {
   "cell_type": "code",
   "execution_count": 33,
   "metadata": {
    "collapsed": false
   },
   "outputs": [
    {
     "name": "stdout",
     "output_type": "stream",
     "text": [
      "[MoviePy] >>>> Building video my_animation.mp4\n",
      "[MoviePy] Writing video my_animation.mp4\n"
     ]
    },
    {
     "name": "stderr",
     "output_type": "stream",
     "text": [
      "100%|██████████| 2/2 [00:00<00:00,  2.58it/s]"
     ]
    },
    {
     "name": "stdout",
     "output_type": "stream",
     "text": [
      "[MoviePy] Done.\n",
      "[MoviePy] >>>> Video ready: my_animation.mp4 \n",
      "\n",
      "\n",
      "[MoviePy] Building file my_animation.gif with imageio\n"
     ]
    },
    {
     "name": "stderr",
     "output_type": "stream",
     "text": [
      "\n",
      "100%|██████████| 2/2 [00:00<00:00,  6.67it/s]\n"
     ]
    },
    {
     "data": {
      "image/png": "[encoded data removed]",
      "text/plain": [
       "<matplotlib.figure.Figure at 0x7f71562220d0>"
      ]
     },
     "metadata": {},
     "output_type": "display_data"
    }
   ],
   "source": [
    "f, ax, sc, txts = scatter(X_iter[..., -1], y)\n",
    "\n",
    "def make_frame_mpl(t):\n",
    "    i = int(t*40)\n",
    "    x = X_iter[..., i]\n",
    "    sc.set_offsets(x)\n",
    "    for j, txt in zip(range(10), txts):\n",
    "        xtext, ytext = np.median(x[y == j, :], axis=0)\n",
    "        txt.set_x(xtext)\n",
    "        txt.set_y(ytext)\n",
    "    return mplfig_to_npimage(f)\n",
    "\n",
    "animation = mpy.VideoClip(make_frame_mpl,\n",
    "                          duration=X_iter.shape[2]/40.)\n",
    "animation.write_videofile(\"my_animation.mp4\", fps=20) # export as video\n",
    "animation.write_gif(\"my_animation.gif\", fps=20) # export as GIF (slow)"
   ]
  },
  {
   "cell_type": "code",
   "execution_count": null,
   "metadata": {
    "collapsed": true
   },
   "outputs": [],
   "source": []
  }
 ],
 "metadata": {
  "kernelspec": {
   "display_name": "Python 2",
   "language": "python",
   "name": "python2"
  },
  "language_info": {
   "codemirror_mode": {
    "name": "ipython",
    "version": 2
   },
   "file_extension": ".py",
   "mimetype": "text/x-python",
   "name": "python",
   "nbconvert_exporter": "python",
   "pygments_lexer": "ipython2",
   "version": "2.7.12"
  }
 },
 "nbformat": 4,
 "nbformat_minor": 1
}
